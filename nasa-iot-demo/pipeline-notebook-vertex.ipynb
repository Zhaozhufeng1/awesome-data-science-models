{
 "cells": [
  {
   "cell_type": "markdown",
   "source": [
    "## Create the template file for creating the pipeline"
   ],
   "metadata": {}
  },
  {
   "cell_type": "markdown",
   "source": [
    "## Steps\n",
    "1. Define your pipeline function\n",
    "2. Build any custom components you need\n",
    "3. Use the v2 compiler to compile your code \n",
    "4. Call the gcloud API Client to establish a connection to AI Platform\n",
    "5. Run the job from the client"
   ],
   "metadata": {}
  },
  {
   "cell_type": "markdown",
   "source": [
    "## Imports"
   ],
   "metadata": {}
  },
  {
   "cell_type": "code",
   "execution_count": 1,
   "source": [
    "# Example imports\n",
    "import kfp\n",
    "import json\n",
    "import os\n",
    "import datetime\n",
    "from kfp.v2 import compiler\n",
    "from kfp.v2.google.client import AIPlatformClient\n",
    "from google.cloud import aiplatform\n",
    "from google_cloud_pipeline_components import aiplatform as gcc_aip\n",
    "\n",
    "# Old imports\n",
    "# import os\n",
    "# import datetime\n",
    "# from jinja2 import Template\n",
    "# from kfp.components import func_to_container_op\n",
    "# from kfp.dsl.types import Dict\n",
    "# from kfp.dsl.types import GCPProjectID\n",
    "# from kfp.dsl.types import GCPRegion\n",
    "# from kfp.dsl.types import GCSPath\n",
    "# from kfp.dsl.types import String\n",
    "# from kfp.gcp import use_gcp_secret"
   ],
   "outputs": [],
   "metadata": {}
  },
  {
   "cell_type": "markdown",
   "source": [
    "## Set up the environment"
   ],
   "metadata": {}
  },
  {
   "cell_type": "code",
   "execution_count": 2,
   "source": [
    "# Defaults and environment settings\n",
    "REGION = 'us-central1'\n",
    "ENDPOINT = 'https://fda9da3634d2db2-dot-us-central2.pipelines.googleusercontent.com'\n",
    "BUCKET_NAME = 'rrusson-kubeflow-test'\n",
    "ARTIFACT_STORE_URI = f'gs://{BUCKET_NAME}'\n",
    "PROJECT_ID = \"mwpmltr\"\n",
    "\n",
    "%env ENDPOINT=$ENDPOINT\n",
    "%env PROJECT_ID=$PROJECT_ID\n",
    "%env REGION=$REGION\n",
    "%env BUCKET_NAME=$BUCKET_NAME\n",
    "%env ARTIFACT_STORE_URI=$ARTIFACT_STORE_URI\n",
    "\n",
    "from kfp_component.func_components import load_raw_data\n",
    "from kfp_component.func_components import split_data\n",
    "from kfp_component.func_components import disp_loss\n",
    "from kfp_component.func_components import vertex_custom_job"
   ],
   "outputs": [
    {
     "output_type": "stream",
     "name": "stdout",
     "text": [
      "env: ENDPOINT=https://fda9da3634d2db2-dot-us-central2.pipelines.googleusercontent.com\n",
      "env: PROJECT_ID=mwpmltr\n",
      "env: REGION=us-central1\n",
      "env: BUCKET_NAME=rrusson-kubeflow-test\n",
      "env: ARTIFACT_STORE_URI=gs://rrusson-kubeflow-test\n"
     ]
    }
   ],
   "metadata": {}
  },
  {
   "cell_type": "markdown",
   "source": [
    "## Create the Docker images and upload to gcr.io"
   ],
   "metadata": {}
  },
  {
   "cell_type": "code",
   "execution_count": 3,
   "source": [
    "IMAGE_NAME='nasa-iot-base'\n",
    "TAG='v1'\n",
    "BASE_IMAGE='gcr.io/{}/{}:{}'.format(PROJECT_ID, IMAGE_NAME, TAG)\n",
    "print(BASE_IMAGE)"
   ],
   "outputs": [
    {
     "output_type": "stream",
     "name": "stdout",
     "text": [
      "gcr.io/mwpmltr/nasa-iot-base:v1\n"
     ]
    }
   ],
   "metadata": {}
  },
  {
   "cell_type": "code",
   "execution_count": 4,
   "source": [
    "# DON'T RUN THIS IF THE IMAGE EXISTS!\n",
    "# !gcloud builds submit --timeout 15m --tag $BASE_IMAGE base_image --async"
   ],
   "outputs": [],
   "metadata": {}
  },
  {
   "cell_type": "code",
   "execution_count": 5,
   "source": [
    "IMAGE_NAME='nasa-iot-trainer'\n",
    "TAG='v5'\n",
    "TRAINER_IMAGE='gcr.io/{}/{}:{}'.format(PROJECT_ID, IMAGE_NAME, TAG)\n",
    "print(TRAINER_IMAGE)"
   ],
   "outputs": [
    {
     "output_type": "stream",
     "name": "stdout",
     "text": [
      "gcr.io/mwpmltr/nasa-iot-trainer:v5\n"
     ]
    }
   ],
   "metadata": {}
  },
  {
   "cell_type": "code",
   "execution_count": 6,
   "source": [
    "# DON'T RUN THIS IF THE IMAGE EXISTS!\n",
    "# !gcloud builds submit --timeout 15m --tag $TRAINER_IMAGE train_image --async"
   ],
   "outputs": [],
   "metadata": {}
  },
  {
   "cell_type": "code",
   "execution_count": 7,
   "source": [
    "IMAGE_NAME='nasa-iot-datadescribe'\n",
    "TAG='v1'\n",
    "DD_IMAGE='gcr.io/{}/{}:{}'.format(PROJECT_ID, IMAGE_NAME, TAG)\n",
    "print(DD_IMAGE)"
   ],
   "outputs": [
    {
     "output_type": "stream",
     "name": "stdout",
     "text": [
      "gcr.io/mwpmltr/nasa-iot-datadescribe:v1\n"
     ]
    }
   ],
   "metadata": {}
  },
  {
   "cell_type": "code",
   "execution_count": 8,
   "source": [
    "# DON'T RUN THIS IF THE IMAGE EXISTS!\n",
    "# !gcloud builds submit --timeout 15m --tag $DD_IMAGE dd_image --async"
   ],
   "outputs": [],
   "metadata": {}
  },
  {
   "cell_type": "markdown",
   "source": [
    "## Compile the Pipeline"
   ],
   "metadata": {}
  },
  {
   "cell_type": "code",
   "execution_count": 9,
   "source": [
    "# Define the pipeline\n",
    "@kfp.dsl.pipeline(\n",
    "    name=\"bearing-sensor-data-training\",\n",
    "    description=\"The pipeline for training and deploying an anomaly detector based on an autoencoder\",\n",
    "    pipeline_root=\"\")\n",
    "\n",
    "def pipeline(project_id: str,\n",
    "             region: str,\n",
    "             source_bucket_name: str, \n",
    "             prefix: str,\n",
    "             dest_bucket_name: str,\n",
    "             dest_file_name: str,\n",
    "             gcs_root: str,\n",
    "             dataset_location:str='US'):\n",
    "    \n",
    "    # Read in the raw sensor data from the public dataset and load in the project bucket\n",
    "    raw_data_op = load_raw_data(source_bucket_name,\n",
    "                                prefix,\n",
    "                                dest_bucket_name,\n",
    "                                dest_file_name)\n",
    "    \n",
    "    \n",
    "    # # Prepare some output from Data Describe\n",
    "    # dd_out = datadescribe_op(gcs_root, \n",
    "    #                          raw_data.outputs['dest_file_name'])\n",
    "    \n",
    "    \n",
    "    # Preprocess and split the raw data by time\n",
    "    split_data_op = split_data(raw_data_op.outputs['dest_bucket_name'],\n",
    "                               raw_data_op.outputs['dest_file_name'],\n",
    "                               '2004-02-15 12:52:39',\n",
    "                               True)\n",
    "    \n",
    "    # Set up the training args\n",
    "    train_args = json.dumps(\n",
    "        [\"--bucket\", str(split_data_op.outputs['bucket_name']),\n",
    "         \"--train_file\", str(split_data_op.outputs['train_dest_file']),\n",
    "         \"--test_file\", str(split_data_op.outputs['test_dest_file'])\n",
    "        ]\n",
    "    )\n",
    "    \n",
    "    job_dir = \"{0}/{1}/{2}\".format(gcs_root, 'jobdir', kfp.dsl.RUN_ID_PLACEHOLDER)\n",
    "    \n",
    "    # Train the model on AI Platform\n",
    "    train_model = vertex_custom_job(\n",
    "        project=project_id,\n",
    "        display_name=f\"anomaly-detection-{datetime.datetime.now().strftime('%H%M%S')}\",\n",
    "        container_image_uri=TRAINER_IMAGE,\n",
    "        train_args=train_args, \n",
    "    )\n",
    "\n",
    "    # train_model = caip_train_op(project_id,\n",
    "    #                             region=region,\n",
    "    #                             master_image_uri=TRAINER_IMAGE,\n",
    "    #                             python_version=\"3.7\",\n",
    "    #                             job_id_prefix=f'anomaly-detection-{datetime.datetime.now().strftime(\"%H%M%S\")}_',\n",
    "    #                             job_dir=job_dir,\n",
    "    #                             args=train_args)\n",
    "    \n",
    "    # Expose artifacts to the Kubeflow UI\n",
    "    # disp_loss_img = disp_loss_op(train_model.outputs['job_id'])\n",
    "    # disp_loss_dist_img = disp_loss_op(train_model.outputs['job_id'])\n",
    "    \n"
   ],
   "outputs": [],
   "metadata": {}
  },
  {
   "cell_type": "code",
   "execution_count": 10,
   "source": [
    "EXPERIMENT_NAME = 'AnomalyDetector'\n",
    "RUN_ID = 'Run_001'\n",
    "SOURCE_BUCKET_NAME = 'amazing-public-data'\n",
    "PREFIX = 'bearing_sensor_data/bearing_sensor_data/'\n",
    "DEST_BUCKET_NAME = BUCKET_NAME\n",
    "DEST_FILE_NAME = 'raw_bearing_data.csv'"
   ],
   "outputs": [],
   "metadata": {}
  },
  {
   "cell_type": "markdown",
   "source": [
    "## Compile the pipline"
   ],
   "metadata": {}
  },
  {
   "cell_type": "code",
   "execution_count": 11,
   "source": [
    "kfp.v2.compiler.Compiler().compile(pipeline, 'nasa_iot_training.json')"
   ],
   "outputs": [],
   "metadata": {}
  },
  {
   "cell_type": "markdown",
   "source": [
    "## Submit a Run"
   ],
   "metadata": {}
  },
  {
   "cell_type": "code",
   "execution_count": 12,
   "source": [
    "aiplatform.init(project=PROJECT_ID, location=REGION)\n",
    "\n",
    "pipejob = aiplatform.PipelineJob(\n",
    "    'nasa_iot_training',\n",
    "    'nasa_iot_training.json',\n",
    "    pipeline_root=ARTIFACT_STORE_URI,  #'gs://ddowler-bucket/temp',\n",
    "    parameter_values={\n",
    "        \"project_id\": PROJECT_ID,\n",
    "        \"region\": REGION,\n",
    "        \"source_bucket_name\": SOURCE_BUCKET_NAME,\n",
    "        \"prefix\": PREFIX,\n",
    "        \"dest_bucket_name\": DEST_BUCKET_NAME,\n",
    "        \"dest_file_name\": DEST_FILE_NAME,\n",
    "        \"gcs_root\": ARTIFACT_STORE_URI,\n",
    "        \"dataset_location\": \"US\"\n",
    "    }\n",
    ")"
   ],
   "outputs": [],
   "metadata": {}
  },
  {
   "cell_type": "code",
   "execution_count": 13,
   "source": [
    "pipejob.run()"
   ],
   "outputs": [
    {
     "output_type": "stream",
     "name": "stdout",
     "text": [
      "INFO:google.cloud.aiplatform.pipeline_jobs:Creating PipelineJob\n",
      "ERROR:grpc._plugin_wrapping:AuthMetadataPluginCallback \"<google.auth.transport.grpc.AuthMetadataPlugin object at 0x7f9990003eb0>\" raised exception!\n",
      "Traceback (most recent call last):\n",
      "  File \"/Users/ryanrusson/opt/miniconda3/envs/nasa-iot/lib/python3.8/site-packages/grpc/_plugin_wrapping.py\", line 88, in __call__\n",
      "    self._metadata_plugin(\n",
      "  File \"/Users/ryanrusson/opt/miniconda3/envs/nasa-iot/lib/python3.8/site-packages/google/auth/transport/grpc.py\", line 101, in __call__\n",
      "    callback(self._get_authorization_headers(context), None)\n",
      "  File \"/Users/ryanrusson/opt/miniconda3/envs/nasa-iot/lib/python3.8/site-packages/google/auth/transport/grpc.py\", line 87, in _get_authorization_headers\n",
      "    self._credentials.before_request(\n",
      "  File \"/Users/ryanrusson/opt/miniconda3/envs/nasa-iot/lib/python3.8/site-packages/google/auth/credentials.py\", line 133, in before_request\n",
      "    self.refresh(request)\n",
      "  File \"/Users/ryanrusson/opt/miniconda3/envs/nasa-iot/lib/python3.8/site-packages/google/oauth2/credentials.py\", line 228, in refresh\n",
      "    ) = reauth.refresh_grant(\n",
      "  File \"/Users/ryanrusson/opt/miniconda3/envs/nasa-iot/lib/python3.8/site-packages/google/oauth2/reauth.py\", line 338, in refresh_grant\n",
      "    _client._handle_error_response(response_data)\n",
      "  File \"/Users/ryanrusson/opt/miniconda3/envs/nasa-iot/lib/python3.8/site-packages/google/oauth2/_client.py\", line 60, in _handle_error_response\n",
      "    raise exceptions.RefreshError(error_details, response_data)\n",
      "google.auth.exceptions.RefreshError: ('invalid_grant: Bad Request', {'error': 'invalid_grant', 'error_description': 'Bad Request'})\n"
     ]
    },
    {
     "output_type": "error",
     "ename": "ServiceUnavailable",
     "evalue": "503 Getting metadata from plugin failed with error: ('invalid_grant: Bad Request', {'error': 'invalid_grant', 'error_description': 'Bad Request'})",
     "traceback": [
      "\u001b[0;31m---------------------------------------------------------------------------\u001b[0m",
      "\u001b[0;31m_InactiveRpcError\u001b[0m                         Traceback (most recent call last)",
      "\u001b[0;32m~/opt/miniconda3/envs/nasa-iot/lib/python3.8/site-packages/google/api_core/grpc_helpers.py\u001b[0m in \u001b[0;36merror_remapped_callable\u001b[0;34m(*args, **kwargs)\u001b[0m\n\u001b[1;32m     66\u001b[0m         \u001b[0;32mtry\u001b[0m\u001b[0;34m:\u001b[0m\u001b[0;34m\u001b[0m\u001b[0;34m\u001b[0m\u001b[0m\n\u001b[0;32m---> 67\u001b[0;31m             \u001b[0;32mreturn\u001b[0m \u001b[0mcallable_\u001b[0m\u001b[0;34m(\u001b[0m\u001b[0;34m*\u001b[0m\u001b[0margs\u001b[0m\u001b[0;34m,\u001b[0m \u001b[0;34m**\u001b[0m\u001b[0mkwargs\u001b[0m\u001b[0;34m)\u001b[0m\u001b[0;34m\u001b[0m\u001b[0;34m\u001b[0m\u001b[0m\n\u001b[0m\u001b[1;32m     68\u001b[0m         \u001b[0;32mexcept\u001b[0m \u001b[0mgrpc\u001b[0m\u001b[0;34m.\u001b[0m\u001b[0mRpcError\u001b[0m \u001b[0;32mas\u001b[0m \u001b[0mexc\u001b[0m\u001b[0;34m:\u001b[0m\u001b[0;34m\u001b[0m\u001b[0;34m\u001b[0m\u001b[0m\n",
      "\u001b[0;32m~/opt/miniconda3/envs/nasa-iot/lib/python3.8/site-packages/grpc/_channel.py\u001b[0m in \u001b[0;36m__call__\u001b[0;34m(self, request, timeout, metadata, credentials, wait_for_ready, compression)\u001b[0m\n\u001b[1;32m    945\u001b[0m                                       wait_for_ready, compression)\n\u001b[0;32m--> 946\u001b[0;31m         \u001b[0;32mreturn\u001b[0m \u001b[0m_end_unary_response_blocking\u001b[0m\u001b[0;34m(\u001b[0m\u001b[0mstate\u001b[0m\u001b[0;34m,\u001b[0m \u001b[0mcall\u001b[0m\u001b[0;34m,\u001b[0m \u001b[0;32mFalse\u001b[0m\u001b[0;34m,\u001b[0m \u001b[0;32mNone\u001b[0m\u001b[0;34m)\u001b[0m\u001b[0;34m\u001b[0m\u001b[0;34m\u001b[0m\u001b[0m\n\u001b[0m\u001b[1;32m    947\u001b[0m \u001b[0;34m\u001b[0m\u001b[0m\n",
      "\u001b[0;32m~/opt/miniconda3/envs/nasa-iot/lib/python3.8/site-packages/grpc/_channel.py\u001b[0m in \u001b[0;36m_end_unary_response_blocking\u001b[0;34m(state, call, with_call, deadline)\u001b[0m\n\u001b[1;32m    848\u001b[0m     \u001b[0;32melse\u001b[0m\u001b[0;34m:\u001b[0m\u001b[0;34m\u001b[0m\u001b[0;34m\u001b[0m\u001b[0m\n\u001b[0;32m--> 849\u001b[0;31m         \u001b[0;32mraise\u001b[0m \u001b[0m_InactiveRpcError\u001b[0m\u001b[0;34m(\u001b[0m\u001b[0mstate\u001b[0m\u001b[0;34m)\u001b[0m\u001b[0;34m\u001b[0m\u001b[0;34m\u001b[0m\u001b[0m\n\u001b[0m\u001b[1;32m    850\u001b[0m \u001b[0;34m\u001b[0m\u001b[0m\n",
      "\u001b[0;31m_InactiveRpcError\u001b[0m: <_InactiveRpcError of RPC that terminated with:\n\tstatus = StatusCode.UNAVAILABLE\n\tdetails = \"Getting metadata from plugin failed with error: ('invalid_grant: Bad Request', {'error': 'invalid_grant', 'error_description': 'Bad Request'})\"\n\tdebug_error_string = \"{\"created\":\"@1627349218.890244000\",\"description\":\"Getting metadata from plugin failed with error: ('invalid_grant: Bad Request', {'error': 'invalid_grant', 'error_description': 'Bad Request'})\",\"file\":\"src/core/lib/security/credentials/plugin/plugin_credentials.cc\",\"file_line\":93,\"grpc_status\":14}\"\n>",
      "\nThe above exception was the direct cause of the following exception:\n",
      "\u001b[0;31mServiceUnavailable\u001b[0m                        Traceback (most recent call last)",
      "\u001b[0;32m/var/folders/_f/0phv12f11_j99q87c8qdjjvc0000gr/T/ipykernel_54593/3687178173.py\u001b[0m in \u001b[0;36m<module>\u001b[0;34m\u001b[0m\n\u001b[0;32m----> 1\u001b[0;31m \u001b[0mpipejob\u001b[0m\u001b[0;34m.\u001b[0m\u001b[0mrun\u001b[0m\u001b[0;34m(\u001b[0m\u001b[0;34m)\u001b[0m\u001b[0;34m\u001b[0m\u001b[0;34m\u001b[0m\u001b[0m\n\u001b[0m",
      "\u001b[0;32m~/opt/miniconda3/envs/nasa-iot/lib/python3.8/site-packages/google/cloud/aiplatform/base.py\u001b[0m in \u001b[0;36mwrapper\u001b[0;34m(*args, **kwargs)\u001b[0m\n\u001b[1;32m    643\u001b[0m                 \u001b[0;32mif\u001b[0m \u001b[0mself\u001b[0m\u001b[0;34m:\u001b[0m\u001b[0;34m\u001b[0m\u001b[0;34m\u001b[0m\u001b[0m\n\u001b[1;32m    644\u001b[0m                     \u001b[0mself\u001b[0m\u001b[0;34m.\u001b[0m\u001b[0mwait\u001b[0m\u001b[0;34m(\u001b[0m\u001b[0;34m)\u001b[0m\u001b[0;34m\u001b[0m\u001b[0;34m\u001b[0m\u001b[0m\n\u001b[0;32m--> 645\u001b[0;31m                 \u001b[0;32mreturn\u001b[0m \u001b[0mmethod\u001b[0m\u001b[0;34m(\u001b[0m\u001b[0;34m*\u001b[0m\u001b[0margs\u001b[0m\u001b[0;34m,\u001b[0m \u001b[0;34m**\u001b[0m\u001b[0mkwargs\u001b[0m\u001b[0;34m)\u001b[0m\u001b[0;34m\u001b[0m\u001b[0;34m\u001b[0m\u001b[0m\n\u001b[0m\u001b[1;32m    646\u001b[0m \u001b[0;34m\u001b[0m\u001b[0m\n\u001b[1;32m    647\u001b[0m             \u001b[0;31m# callbacks to call within the Future (in same Thread)\u001b[0m\u001b[0;34m\u001b[0m\u001b[0;34m\u001b[0m\u001b[0;34m\u001b[0m\u001b[0m\n",
      "\u001b[0;32m~/opt/miniconda3/envs/nasa-iot/lib/python3.8/site-packages/google/cloud/aiplatform/pipeline_jobs.py\u001b[0m in \u001b[0;36mrun\u001b[0;34m(self, service_account, network, sync)\u001b[0m\n\u001b[1;32m    237\u001b[0m         \u001b[0m_LOGGER\u001b[0m\u001b[0;34m.\u001b[0m\u001b[0mlog_create_with_lro\u001b[0m\u001b[0;34m(\u001b[0m\u001b[0mself\u001b[0m\u001b[0;34m.\u001b[0m\u001b[0m__class__\u001b[0m\u001b[0;34m)\u001b[0m\u001b[0;34m\u001b[0m\u001b[0;34m\u001b[0m\u001b[0m\n\u001b[1;32m    238\u001b[0m \u001b[0;34m\u001b[0m\u001b[0m\n\u001b[0;32m--> 239\u001b[0;31m         self._gca_resource = self.api_client.create_pipeline_job(\n\u001b[0m\u001b[1;32m    240\u001b[0m             \u001b[0mparent\u001b[0m\u001b[0;34m=\u001b[0m\u001b[0mself\u001b[0m\u001b[0;34m.\u001b[0m\u001b[0m_parent\u001b[0m\u001b[0;34m,\u001b[0m \u001b[0mpipeline_job\u001b[0m\u001b[0;34m=\u001b[0m\u001b[0mself\u001b[0m\u001b[0;34m.\u001b[0m\u001b[0m_gca_resource\u001b[0m\u001b[0;34m\u001b[0m\u001b[0;34m\u001b[0m\u001b[0m\n\u001b[1;32m    241\u001b[0m         )\n",
      "\u001b[0;32m~/opt/miniconda3/envs/nasa-iot/lib/python3.8/site-packages/google/cloud/aiplatform_v1beta1/services/pipeline_service/client.py\u001b[0m in \u001b[0;36mcreate_pipeline_job\u001b[0;34m(self, request, parent, pipeline_job, pipeline_job_id, retry, timeout, metadata)\u001b[0m\n\u001b[1;32m   1015\u001b[0m \u001b[0;34m\u001b[0m\u001b[0m\n\u001b[1;32m   1016\u001b[0m         \u001b[0;31m# Send the request.\u001b[0m\u001b[0;34m\u001b[0m\u001b[0;34m\u001b[0m\u001b[0;34m\u001b[0m\u001b[0m\n\u001b[0;32m-> 1017\u001b[0;31m         \u001b[0mresponse\u001b[0m \u001b[0;34m=\u001b[0m \u001b[0mrpc\u001b[0m\u001b[0;34m(\u001b[0m\u001b[0mrequest\u001b[0m\u001b[0;34m,\u001b[0m \u001b[0mretry\u001b[0m\u001b[0;34m=\u001b[0m\u001b[0mretry\u001b[0m\u001b[0;34m,\u001b[0m \u001b[0mtimeout\u001b[0m\u001b[0;34m=\u001b[0m\u001b[0mtimeout\u001b[0m\u001b[0;34m,\u001b[0m \u001b[0mmetadata\u001b[0m\u001b[0;34m=\u001b[0m\u001b[0mmetadata\u001b[0m\u001b[0;34m,\u001b[0m\u001b[0;34m)\u001b[0m\u001b[0;34m\u001b[0m\u001b[0;34m\u001b[0m\u001b[0m\n\u001b[0m\u001b[1;32m   1018\u001b[0m \u001b[0;34m\u001b[0m\u001b[0m\n\u001b[1;32m   1019\u001b[0m         \u001b[0;31m# Done; return the response.\u001b[0m\u001b[0;34m\u001b[0m\u001b[0;34m\u001b[0m\u001b[0;34m\u001b[0m\u001b[0m\n",
      "\u001b[0;32m~/opt/miniconda3/envs/nasa-iot/lib/python3.8/site-packages/google/api_core/gapic_v1/method.py\u001b[0m in \u001b[0;36m__call__\u001b[0;34m(self, *args, **kwargs)\u001b[0m\n\u001b[1;32m    143\u001b[0m             \u001b[0mkwargs\u001b[0m\u001b[0;34m[\u001b[0m\u001b[0;34m\"metadata\"\u001b[0m\u001b[0;34m]\u001b[0m \u001b[0;34m=\u001b[0m \u001b[0mmetadata\u001b[0m\u001b[0;34m\u001b[0m\u001b[0;34m\u001b[0m\u001b[0m\n\u001b[1;32m    144\u001b[0m \u001b[0;34m\u001b[0m\u001b[0m\n\u001b[0;32m--> 145\u001b[0;31m         \u001b[0;32mreturn\u001b[0m \u001b[0mwrapped_func\u001b[0m\u001b[0;34m(\u001b[0m\u001b[0;34m*\u001b[0m\u001b[0margs\u001b[0m\u001b[0;34m,\u001b[0m \u001b[0;34m**\u001b[0m\u001b[0mkwargs\u001b[0m\u001b[0;34m)\u001b[0m\u001b[0;34m\u001b[0m\u001b[0;34m\u001b[0m\u001b[0m\n\u001b[0m\u001b[1;32m    146\u001b[0m \u001b[0;34m\u001b[0m\u001b[0m\n\u001b[1;32m    147\u001b[0m \u001b[0;34m\u001b[0m\u001b[0m\n",
      "\u001b[0;32m~/opt/miniconda3/envs/nasa-iot/lib/python3.8/site-packages/google/api_core/grpc_helpers.py\u001b[0m in \u001b[0;36merror_remapped_callable\u001b[0;34m(*args, **kwargs)\u001b[0m\n\u001b[1;32m     67\u001b[0m             \u001b[0;32mreturn\u001b[0m \u001b[0mcallable_\u001b[0m\u001b[0;34m(\u001b[0m\u001b[0;34m*\u001b[0m\u001b[0margs\u001b[0m\u001b[0;34m,\u001b[0m \u001b[0;34m**\u001b[0m\u001b[0mkwargs\u001b[0m\u001b[0;34m)\u001b[0m\u001b[0;34m\u001b[0m\u001b[0;34m\u001b[0m\u001b[0m\n\u001b[1;32m     68\u001b[0m         \u001b[0;32mexcept\u001b[0m \u001b[0mgrpc\u001b[0m\u001b[0;34m.\u001b[0m\u001b[0mRpcError\u001b[0m \u001b[0;32mas\u001b[0m \u001b[0mexc\u001b[0m\u001b[0;34m:\u001b[0m\u001b[0;34m\u001b[0m\u001b[0;34m\u001b[0m\u001b[0m\n\u001b[0;32m---> 69\u001b[0;31m             \u001b[0msix\u001b[0m\u001b[0;34m.\u001b[0m\u001b[0mraise_from\u001b[0m\u001b[0;34m(\u001b[0m\u001b[0mexceptions\u001b[0m\u001b[0;34m.\u001b[0m\u001b[0mfrom_grpc_error\u001b[0m\u001b[0;34m(\u001b[0m\u001b[0mexc\u001b[0m\u001b[0;34m)\u001b[0m\u001b[0;34m,\u001b[0m \u001b[0mexc\u001b[0m\u001b[0;34m)\u001b[0m\u001b[0;34m\u001b[0m\u001b[0;34m\u001b[0m\u001b[0m\n\u001b[0m\u001b[1;32m     70\u001b[0m \u001b[0;34m\u001b[0m\u001b[0m\n\u001b[1;32m     71\u001b[0m     \u001b[0;32mreturn\u001b[0m \u001b[0merror_remapped_callable\u001b[0m\u001b[0;34m\u001b[0m\u001b[0;34m\u001b[0m\u001b[0m\n",
      "\u001b[0;32m~/opt/miniconda3/envs/nasa-iot/lib/python3.8/site-packages/six.py\u001b[0m in \u001b[0;36mraise_from\u001b[0;34m(value, from_value)\u001b[0m\n",
      "\u001b[0;31mServiceUnavailable\u001b[0m: 503 Getting metadata from plugin failed with error: ('invalid_grant: Bad Request', {'error': 'invalid_grant', 'error_description': 'Bad Request'})"
     ]
    }
   ],
   "metadata": {}
  },
  {
   "cell_type": "code",
   "execution_count": null,
   "source": [],
   "outputs": [],
   "metadata": {}
  }
 ],
 "metadata": {
  "environment": {
   "name": "tf-gpu.1-15.m59",
   "type": "gcloud",
   "uri": "gcr.io/deeplearning-platform-release/tf-gpu.1-15:m59"
  },
  "kernelspec": {
   "name": "python3",
   "display_name": "Python 3.8.10 64-bit ('nasa-iot': conda)"
  },
  "language_info": {
   "codemirror_mode": {
    "name": "ipython",
    "version": 3
   },
   "file_extension": ".py",
   "mimetype": "text/x-python",
   "name": "python",
   "nbconvert_exporter": "python",
   "pygments_lexer": "ipython3",
   "version": "3.8.10"
  },
  "interpreter": {
   "hash": "939a8dc8fcef4866de778594b036edeadbae62a1b5239c979e3add9d213c685c"
  }
 },
 "nbformat": 4,
 "nbformat_minor": 4
}