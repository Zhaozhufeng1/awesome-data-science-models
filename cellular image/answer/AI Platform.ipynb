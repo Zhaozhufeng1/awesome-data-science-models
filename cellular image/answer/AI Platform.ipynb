{
 "cells": [
  {
   "cell_type": "markdown",
   "metadata": {},
   "source": [
    "# Cellular Imaging Demo\n",
    "\n",
    "We will be using the Malaria dataset in this demo.\n",
    "\n",
    "The Malaria dataset contains a total of 27,558 cell images with equal instances of parasitized and uninfected cells from the thin blood smear slide images of segmented cells."
   ]
  },
  {
   "cell_type": "markdown",
   "metadata": {},
   "source": [
    "## Step 1\n",
    "\n",
    "## Repository Cloning and Setup"
   ]
  },
  {
   "cell_type": "code",
   "execution_count": null,
   "metadata": {},
   "outputs": [],
   "source": [
    "#copy the tensor flow repo from git hub \n",
    "\n",
    "!git clone https://github.com/tensorflow/models.git \\\n",
    "  --branch=v2.1.0 \\\n",
    "  --depth=1"
   ]
  },
  {
   "cell_type": "code",
   "execution_count": null,
   "metadata": {},
   "outputs": [],
   "source": [
    "#move the trainer folder inside the model folder\n",
    "\n",
    "!cp -r trainer  models/"
   ]
  },
  {
   "cell_type": "code",
   "execution_count": null,
   "metadata": {},
   "outputs": [],
   "source": [
    "# Change the current working directory to models\n",
    "import os\n",
    "os.chdir('models/')\n",
    "\n",
    "os.getcwd()"
   ]
  },
  {
   "cell_type": "code",
   "execution_count": null,
   "metadata": {},
   "outputs": [],
   "source": [
    "# Create the setup.py file"
   ]
  },
  {
   "cell_type": "code",
   "execution_count": null,
   "metadata": {},
   "outputs": [],
   "source": [
    "%%writefile setup.py\n",
    "from setuptools import find_packages\n",
    "from setuptools import setup\n",
    "\n",
    "REQUIRED_PACKAGES=['tensorflow-datasets~=3.1', \n",
    "                   'pip>=20.2',\n",
    "                   'absl-py<0.9,>=0.7']\n",
    "\n",
    "setup(\n",
    "    name='official',\n",
    "    _version_='0.1',\n",
    "    install_requires=REQUIRED_PACKAGES,\n",
    "    include_package_data=True,\n",
    "    packages=find_packages()\n",
    ")"
   ]
  },
  {
   "cell_type": "markdown",
   "metadata": {},
   "source": [
    "# Step 2\n",
    "\n",
    "## Training the model on the AI platform"
   ]
  },
  {
   "cell_type": "code",
   "execution_count": null,
   "metadata": {},
   "outputs": [],
   "source": [
    "%env PROJECT_ID=mwpmltr\n",
    "%env BUCKET_ID=bipin_workshop_bucket\n",
    "%env REGION=us-central1\n",
    "%env DATA_DIR= temp_data_bukcet"
   ]
  },
  {
   "cell_type": "code",
   "execution_count": null,
   "metadata": {},
   "outputs": [],
   "source": [
    "now = !date +\"%Y%m%d_%H%M%S\"\n",
    "%env JOB_NAME=cellular_img__CPU$now.s\n",
    "\n",
    "!gcloud ai-platform jobs submit training $JOB_NAME \\\n",
    "  --package-path trainer \\\n",
    "  --module-name trainer.trainer  \\\n",
    "  --region $REGION \\\n",
    "  --python-version 3.7 \\\n",
    "  --runtime-version 2.1 \\\n",
    "  --staging-bucket gs://${BUCKET_ID} \\\n",
    "  -- \\\n",
    "  --tpu local \\\n",
    "  --model_dir gs://${BUCKET_ID}/cellular_img__CPU_model_files \\\n",
    "  --data_dir gs://${DATA_DIR} \\\n",
    "  --train_epochs 1 \\\n",
    "  --distribution_strategy off \\\n",
    "  --num_gpus 0 \\\n",
    "  --download False\n",
    "\n",
    "                \n",
    "# Stream logs so that training is done before subsequent cells are run.\n",
    "# Remove  '> /dev/null' to see step-by-step output of the model build steps.\n",
    "!gcloud ai-platform jobs stream-logs $JOB_NAME > /dev/null\n",
    "\n",
    "# Model should exit with status \"SUCCEEDED\"\n",
    "!gcloud ai-platform jobs describe $JOB_NAME --format=\"value(state)\""
   ]
  },
  {
   "cell_type": "markdown",
   "metadata": {},
   "source": [
    "# Step 3\n",
    "\n",
    "### Train the model on the AI Platform Using the TPU"
   ]
  },
  {
   "cell_type": "markdown",
   "metadata": {},
   "source": [
    "#### Prerequisites before using a Cloud TPU\n",
    "#### Authorizing your Cloud TPU to access your project \n",
    "\n",
    "[TPU Environment Setup](https://cloud.google.com/ai-platform/training/docs/using-tpus#console) - These steps need to be executed by the Data Enginner for setting up the environment to use the TPU's. "
   ]
  },
  {
   "cell_type": "code",
   "execution_count": null,
   "metadata": {},
   "outputs": [],
   "source": [
    "now = !date +\"%Y%m%d_%H%M%S\"\n",
    "%env JOB_NAME=Cellular_img_TPU$now.s\n",
    "\n",
    "!gcloud ai-platform jobs submit training $JOB_NAME \\\n",
    "  --scale-tier BASIC_TPU \\\n",
    "  --package-path trainer \\\n",
    "  --module-name trainer.trainer  \\\n",
    "  --region $REGION \\\n",
    "  --python-version 3.7 \\\n",
    "  --runtime-version 2.1 \\\n",
    "  --staging-bucket gs://${BUCKET_ID} \\\n",
    "  -- \\\n",
    "  --model_dir gs://${BUCKET_ID}/cellular_img__TPU_model_files \\\n",
    "  --data_dir gs://${DATA_DIR} \\\n",
    "  --train_epochs 1 \\\n",
    "  --distribution_strategy tpu \\\n",
    "  --download False\n",
    "\n",
    "                \n",
    "# Stream logs so that training is done before subsequent cells are run.\n",
    "# Remove  '> /dev/null' to see step-by-step output of the model build steps.\n",
    "!gcloud ai-platform jobs stream-logs $JOB_NAME > /dev/null\n",
    "\n",
    "# Model should exit with status \"SUCCEEDED\"\n",
    "!gcloud ai-platform jobs describe $JOB_NAME --format=\"value(state)\""
   ]
  },
  {
   "cell_type": "code",
   "execution_count": null,
   "metadata": {},
   "outputs": [],
   "source": []
  }
 ],
 "metadata": {
  "environment": {
   "name": "tf-gpu.1-15.m54",
   "type": "gcloud",
   "uri": "gcr.io/deeplearning-platform-release/tf-gpu.1-15:m54"
  },
  "kernelspec": {
   "display_name": "Python 3",
   "language": "python",
   "name": "python3"
  },
  "language_info": {
   "codemirror_mode": {
    "name": "ipython",
    "version": 3
   },
   "file_extension": ".py",
   "mimetype": "text/x-python",
   "name": "python",
   "nbconvert_exporter": "python",
   "pygments_lexer": "ipython3",
   "version": "3.7.8"
  }
 },
 "nbformat": 4,
 "nbformat_minor": 4
}
