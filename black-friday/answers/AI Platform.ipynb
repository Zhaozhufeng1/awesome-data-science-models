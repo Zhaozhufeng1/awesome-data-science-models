{
 "cells": [
  {
   "cell_type": "markdown",
   "metadata": {},
   "source": [
    "<b>Define environment variables</b>\n",
    "\n",
    "To be used in future training steps.  Note that the BUCKET_NAME defined below must exist in the GCP project.\n"
   ]
  },
  {
   "cell_type": "code",
   "execution_count": 1,
   "metadata": {},
   "outputs": [
    {
     "name": "stdout",
     "output_type": "stream",
     "text": [
      "env: BUCKET_NAME=ml-workshop-black-friday\n",
      "env: JOB_NAME=black_friday_trial_1\n",
      "env: TRAINING_PACKAGE_PATH=./trainer/\n",
      "env: MAIN_TRAINER_MODULE=trainer.rf_trainer\n",
      "env: REGION=us-central1\n",
      "env: RUNTIME_VERSION=1.14\n",
      "env: PYTHON_VERSION=3.5\n",
      "env: SCALE_TIER=CUSTOM\n",
      "env: MODEL_NAME=black_friday_mod_trial_1\n",
      "env: PROJECT_ID=mwe-sanofi-ml-workshop\n",
      "env: DATASET_ID=black_friday\n",
      "env: VERSION_NAME=v1\n",
      "env: FRAMEWORK=SCIKIT_LEARN\n"
     ]
    }
   ],
   "source": [
    "%env BUCKET_NAME=ml-workshop-black-friday\n",
    "%env JOB_NAME=black_friday_trial_1\n",
    "\n",
    "%env TRAINING_PACKAGE_PATH=./trainer/\n",
    "%env MAIN_TRAINER_MODULE=trainer.rf_trainer\n",
    "%env REGION=us-central1\n",
    "%env RUNTIME_VERSION=1.14\n",
    "%env PYTHON_VERSION=3.5\n",
    "%env SCALE_TIER=CUSTOM\n",
    "\n",
    "%env MODEL_NAME=black_friday_mod_trial_1\n",
    "%env PROJECT_ID=mwe-sanofi-ml-workshop\n",
    "%env DATASET_ID=black_friday\n",
    "%env VERSION_NAME=v1\n",
    "%env FRAMEWORK=SCIKIT_LEARN"
   ]
  },
  {
   "cell_type": "code",
   "execution_count": 2,
   "metadata": {},
   "outputs": [
    {
     "name": "stdout",
     "output_type": "stream",
     "text": [
      "Creating gs://ml-workshop-black-friday/...\n",
      "ServiceException: 409 Bucket ml-workshop-black-friday already exists.\n",
      "Copying file://train.csv [Content-Type=text/csv]...\n",
      "- [1 files][ 24.3 MiB/ 24.3 MiB]                                                \n",
      "Operation completed over 1 objects/24.3 MiB.                                     \n",
      "Copying file://test.csv [Content-Type=text/csv]...\n",
      "/ [1 files][ 11.0 MiB/ 11.0 MiB]                                                \n",
      "Operation completed over 1 objects/11.0 MiB.                                     \n",
      "rm: cannot remove 'input.json': No such file or directory\n"
     ]
    }
   ],
   "source": [
    "# Training and testing files must be in a cloud storage bucket before training runs.\n",
    "!gsutil mb gs://${BUCKET_NAME}\n",
    "!gsutil cp train.csv  gs://${BUCKET_NAME}\n",
    "!gsutil cp test.csv  gs://${BUCKET_NAME}\n",
    "    \n",
    "# Remove output from previous runs, if any.\n",
    "!rm input.json"
   ]
  },
  {
   "cell_type": "markdown",
   "metadata": {},
   "source": [
    "<b>Perform training locally with default parameters</b>"
   ]
  },
  {
   "cell_type": "code",
   "execution_count": 3,
   "metadata": {},
   "outputs": [
    {
     "name": "stdout",
     "output_type": "stream",
     "text": [
      "1it [00:28, 28.95s/it]\n",
      "Downloading: 100%|██████████████████████| 1000/1000 [00:00<00:00, 4783.19rows/s]\n",
      "Downloading: 100%|██████████████████████| 1000/1000 [00:00<00:00, 3969.09rows/s]\n",
      "Copying file://model.pkl [Content-Type=application/octet-stream]...\n",
      "/ [1 files][  1.7 MiB/  1.7 MiB]                                                \n",
      "Operation completed over 1 objects/1.7 MiB.                                      \n"
     ]
    }
   ],
   "source": [
    "# Give the service account for this project an \"Editor\" role in IAM for all users of this environment\n",
    "# to have Bigquery access. The first time this cell is run, set create-data and hp-tune to True. This\n",
    "# creates input files and the results of hyperparameter tuning available. You can set them to false for \n",
    "# subsequent runs.\n",
    "!gcloud ai-platform local train \\\n",
    "  --package-path $TRAINING_PACKAGE_PATH \\\n",
    "  --module-name $MAIN_TRAINER_MODULE \\\n",
    "  -- \\\n",
    "  --project-id $PROJECT_ID \\\n",
    "  --bucket-name $BUCKET_NAME \\\n",
    "  --create-data=True \\\n",
    "  --hp-tune=True \\\n",
    "  --num-hp-iterations=3"
   ]
  },
  {
   "cell_type": "markdown",
   "metadata": {},
   "source": [
    "<b>Perform training on AI Platform</b>\n",
    "\n",
    "The training job can also be run on AI Platform. \n",
    "\n",
    "Important: A single training job (either locally or using AI Platform) must complete with the --create-data  and --hp-tune flags set to True for the remainig functionality to complete.\n",
    "\n",
    "Note that we've updated the compute allocated to the master machine for this job to allow for more muscle."
   ]
  },
  {
   "cell_type": "code",
   "execution_count": 4,
   "metadata": {},
   "outputs": [
    {
     "name": "stdout",
     "output_type": "stream",
     "text": [
      "env: JOB_NAME=black_friday_job_20200615_074523\n",
      "Job [black_friday_job_20200615_074523] submitted successfully.\n",
      "Your job is still active. You may view the status of your job with the command\n",
      "\n",
      "  $ gcloud ai-platform jobs describe black_friday_job_20200615_074523\n",
      "\n",
      "or continue streaming the logs with the command\n",
      "\n",
      "  $ gcloud ai-platform jobs stream-logs black_friday_job_20200615_074523\n",
      "jobId: black_friday_job_20200615_074523\n",
      "state: QUEUED\n",
      "SUCCEEDED\n"
     ]
    }
   ],
   "source": [
    "# The first time this cell is run, set create-data and hp-tune to True. This\n",
    "# creates input files and the results of hyperparameter tuning available. You can set them to false for \n",
    "# subsequent runs.\n",
    "now = !date +\"%Y%m%d_%H%M%S\"\n",
    "%env JOB_NAME=black_friday_job_$now.s\n",
    "\n",
    "!gcloud ai-platform jobs submit training $JOB_NAME \\\n",
    "  --job-dir gs://${BUCKET_NAME}/rf-job-dir \\\n",
    "  --package-path $TRAINING_PACKAGE_PATH \\\n",
    "  --module-name $MAIN_TRAINER_MODULE \\\n",
    "  --region $REGION \\\n",
    "  --runtime-version=$RUNTIME_VERSION \\\n",
    "  --python-version=$PYTHON_VERSION \\\n",
    "  --scale-tier $SCALE_TIER \\\n",
    "  --master-machine-type n1-highcpu-16 \\\n",
    "  -- \\\n",
    "  --job-id $JOB_NAME \\\n",
    "  --project-id $PROJECT_ID \\\n",
    "  --bucket-name $BUCKET_NAME \\\n",
    "  --dataset-id $DATASET_ID \\\n",
    "  --create-data=True \\\n",
    "  --hp-tune=True \\\n",
    "  --num-hp-iterations=2\n",
    "    \n",
    "# Stream logs so that training is done before subsequent cells are run.\n",
    "# Remove  '> /dev/null' to see step-by-step output of the model build steps.\n",
    "!gcloud ai-platform jobs stream-logs $JOB_NAME > /dev/null\n",
    "\n",
    "# Model should exit with status \"SUCCEEDED\"\n",
    "!gcloud ai-platform jobs describe $JOB_NAME --format=\"value(state)\""
   ]
  },
  {
   "cell_type": "markdown",
   "metadata": {},
   "source": [
    "<b>Host the trained model on AI Platform</b>\n",
    "\n",
    "Because our raw prediction output from the model is a numpy array that needs to be converted into a product category, we'll need to implement a custom prediction module.\n",
    "\n",
    "First, execute the setup script to create a distribution tarball"
   ]
  },
  {
   "cell_type": "code",
   "execution_count": 5,
   "metadata": {},
   "outputs": [
    {
     "name": "stdout",
     "output_type": "stream",
     "text": [
      "running sdist\n",
      "running egg_info\n",
      "writing trainer.egg-info/PKG-INFO\n",
      "writing dependency_links to trainer.egg-info/dependency_links.txt\n",
      "writing requirements to trainer.egg-info/requires.txt\n",
      "writing top-level names to trainer.egg-info/top_level.txt\n",
      "reading manifest file 'trainer.egg-info/SOURCES.txt'\n",
      "writing manifest file 'trainer.egg-info/SOURCES.txt'\n",
      "warning: sdist: standard file not found: should have one of README, README.rst, README.txt, README.md\n",
      "\n",
      "running check\n",
      "warning: check: missing required meta-data: url\n",
      "\n",
      "warning: check: missing meta-data: either (author and author_email) or (maintainer and maintainer_email) must be supplied\n",
      "\n",
      "creating trainer-0.1\n",
      "creating trainer-0.1/trainer\n",
      "creating trainer-0.1/trainer.egg-info\n",
      "copying files to trainer-0.1...\n",
      "copying predictor.py -> trainer-0.1\n",
      "copying setup.py -> trainer-0.1\n",
      "copying trainer/__init__.py -> trainer-0.1/trainer\n",
      "copying trainer/create_data_func.py -> trainer-0.1/trainer\n",
      "copying trainer/hp_tuning.py -> trainer-0.1/trainer\n",
      "copying trainer/rf_trainer.py -> trainer-0.1/trainer\n",
      "copying trainer.egg-info/PKG-INFO -> trainer-0.1/trainer.egg-info\n",
      "copying trainer.egg-info/SOURCES.txt -> trainer-0.1/trainer.egg-info\n",
      "copying trainer.egg-info/dependency_links.txt -> trainer-0.1/trainer.egg-info\n",
      "copying trainer.egg-info/requires.txt -> trainer-0.1/trainer.egg-info\n",
      "copying trainer.egg-info/top_level.txt -> trainer-0.1/trainer.egg-info\n",
      "Writing trainer-0.1/setup.cfg\n",
      "Creating tar archive\n",
      "removing 'trainer-0.1' (and everything under it)\n"
     ]
    }
   ],
   "source": [
    "!python setup.py sdist --formats=gztar"
   ]
  },
  {
   "cell_type": "markdown",
   "metadata": {},
   "source": [
    "Next copy the tarball over to Cloud Storage"
   ]
  },
  {
   "cell_type": "code",
   "execution_count": 6,
   "metadata": {},
   "outputs": [
    {
     "name": "stdout",
     "output_type": "stream",
     "text": [
      "Copying file://dist/trainer-0.1.tar.gz [Content-Type=application/x-tar]...\n",
      "/ [1 files][  5.2 KiB/  5.2 KiB]                                                \n",
      "Operation completed over 1 objects/5.2 KiB.                                      \n"
     ]
    }
   ],
   "source": [
    "!gsutil cp dist/trainer-0.1.tar.gz gs://${BUCKET_NAME}/staging-dir/trainer-0.1.tar.gz"
   ]
  },
  {
   "cell_type": "markdown",
   "metadata": {},
   "source": [
    "Create a new model on AI Platform.  Note that this needs to be done just once, and future iterations are saved as \"versions\" of the model."
   ]
  },
  {
   "cell_type": "code",
   "execution_count": 7,
   "metadata": {},
   "outputs": [
    {
     "name": "stdout",
     "output_type": "stream",
     "text": [
      "env: MODEL_NAME=black_friday_model_20200615_074523\n",
      "\u001b[1;33mWARNING:\u001b[0m Using endpoint [https://ml.googleapis.com/]\n",
      "Created ml engine model [projects/mwe-sanofi-ml-workshop/models/black_friday_model_20200615_074523].\n"
     ]
    }
   ],
   "source": [
    "%env MODEL_NAME=black_friday_model_$now.s\n",
    "!gcloud ai-platform models create $MODEL_NAME --regions $REGION"
   ]
  },
  {
   "cell_type": "markdown",
   "metadata": {},
   "source": [
    "Next we create new version using our trained model"
   ]
  },
  {
   "cell_type": "code",
   "execution_count": 8,
   "metadata": {},
   "outputs": [
    {
     "name": "stdout",
     "output_type": "stream",
     "text": [
      "\u001b[1;33mWARNING:\u001b[0m Using endpoint [https://ml.googleapis.com/]\n",
      "Creating version (this might take a few minutes)......done.                    \n"
     ]
    }
   ],
   "source": [
    "!gcloud beta ai-platform versions create $VERSION_NAME \\\n",
    "  --model $MODEL_NAME \\\n",
    "  --origin gs://${BUCKET_NAME}/black_friday_${JOB_NAME}/ \\\n",
    "  --runtime-version=1.14 \\\n",
    "  --python-version=3.5 \\\n",
    "  --package-uris gs://${BUCKET_NAME}/staging-dir/trainer-0.1.tar.gz \\\n",
    "  --prediction-class predictor.MyPredictor"
   ]
  },
  {
   "cell_type": "markdown",
   "metadata": {},
   "source": [
    "<b>Prepare a sample for inference</b>"
   ]
  },
  {
   "cell_type": "code",
   "execution_count": 9,
   "metadata": {},
   "outputs": [],
   "source": [
    "!python generate_sample.py \\\n",
    "  --project-id $PROJECT_ID \\\n",
    "  --bucket-name ${BUCKET_NAME}"
   ]
  },
  {
   "cell_type": "markdown",
   "metadata": {},
   "source": [
    "<b>Make an inference on a new sample.</b>\n",
    "\n",
    "Pass the sample object to the model hosted in AI Platform to return a prediction."
   ]
  },
  {
   "cell_type": "code",
   "execution_count": 10,
   "metadata": {},
   "outputs": [
    {
     "name": "stdout",
     "output_type": "stream",
     "text": [
      "\u001b[1;33mWARNING:\u001b[0m Using endpoint [https://ml.googleapis.com/]\n",
      "{\n",
      "  \"predictions\": \"Product Category 1\"\n",
      "}\n"
     ]
    }
   ],
   "source": [
    "# make an online prediction\n",
    "!gcloud ai-platform predict --model $MODEL_NAME --version \\\n",
    "  $VERSION_NAME --json-instances input.json"
   ]
  }
 ],
 "metadata": {
  "environment": {
   "name": "tf-gpu.1-15.m48",
   "type": "gcloud",
   "uri": "gcr.io/deeplearning-platform-release/tf-gpu.1-15:m48"
  },
  "kernelspec": {
   "display_name": "Python 3",
   "language": "python",
   "name": "python3"
  },
  "language_info": {
   "codemirror_mode": {
    "name": "ipython",
    "version": 3
   },
   "file_extension": ".py",
   "mimetype": "text/x-python",
   "name": "python",
   "nbconvert_exporter": "python",
   "pygments_lexer": "ipython3",
   "version": "3.7.6"
  }
 },
 "nbformat": 4,
 "nbformat_minor": 4
}
