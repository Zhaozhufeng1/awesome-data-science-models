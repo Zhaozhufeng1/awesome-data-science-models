{
 "cells": [
  {
   "cell_type": "markdown",
   "metadata": {},
   "source": [
    "<b>Define environment variables</b>\n",
    "\n",
    "To be used in future training steps.  Note that the BUCKET_NAME defined below must exist in the GCP project."
   ]
  },
  {
   "cell_type": "code",
   "execution_count": 1,
   "metadata": {},
   "outputs": [
    {
     "name": "stdout",
     "output_type": "stream",
     "text": [
      "env: BUCKET_NAME=sanofi-ml-workshop-black-friday\n",
      "env: JOB_NAME=rf_0603_train_job_1\n",
      "env: TRAINING_PACKAGE_PATH=./trainer/\n",
      "env: MAIN_TRAINER_MODULE=trainer.rf_trainer\n",
      "env: REGION=us-central1\n",
      "env: RUNTIME_VERSION=1.14\n",
      "env: PYTHON_VERSION=3.5\n",
      "env: SCALE_TIER=CUSTOM\n",
      "env: MODEL_NAME=rf_mod_0603_1\n",
      "env: PROJECT_ID=mwe-sanofi-ml-workshop\n",
      "env: DATASET_ID=black_friday\n",
      "env: VERSION_NAME=v1\n",
      "env: FRAMEWORK=SCIKIT_LEARN\n"
     ]
    }
   ],
   "source": [
    "%env BUCKET_NAME=sanofi-ml-workshop-black-friday\n",
    "%env JOB_NAME=rf_0603_train_job_1\n",
    "\n",
    "%env TRAINING_PACKAGE_PATH=./trainer/\n",
    "%env MAIN_TRAINER_MODULE=trainer.rf_trainer\n",
    "%env REGION=us-central1\n",
    "%env RUNTIME_VERSION=1.14\n",
    "%env PYTHON_VERSION=3.5\n",
    "%env SCALE_TIER=CUSTOM\n",
    "\n",
    "%env MODEL_NAME=rf_mod_0603_1\n",
    "%env PROJECT_ID=mwe-sanofi-ml-workshop\n",
    "%env DATASET_ID=black_friday\n",
    "%env VERSION_NAME=v1\n",
    "%env FRAMEWORK=SCIKIT_LEARN"
   ]
  },
  {
   "cell_type": "code",
   "execution_count": null,
   "metadata": {},
   "outputs": [],
   "source": [
    "# Training and testing files must be in a cloud storage bucket before training runs.\n",
    "!gsutil cp ~/sanofi-ml-workshop-repo/black-friday/answers/train.csv  gs://${BUCKET_NAME}\n",
    "!gsutil cp ~/sanofi-ml-workshop-repo/black-friday/answers/test.csv  gs://${BUCKET_NAME}"
   ]
  },
  {
   "cell_type": "markdown",
   "metadata": {},
   "source": [
    "<b>Perform training locally with default parameters</b>"
   ]
  },
  {
   "cell_type": "code",
   "execution_count": 2,
   "metadata": {},
   "outputs": [
    {
     "name": "stdout",
     "output_type": "stream",
     "text": [
      "\u001b[1;33mWARNING:\u001b[0m \n",
      "    Cannot import tensorflow under path /opt/conda/bin/python. Using \"chief\" for cluster setting.\n",
      "    If this is not intended, Please check if tensorflow is installed. Please also\n",
      "    verify if the python path used is correct. If not, to change the python path:\n",
      "    use `gcloud config set ml_engine/local_python $python_path`\n",
      "    Eg: gcloud config set ml_engine/local_python /usr/bin/python3\n",
      "\u001b[1;33mWARNING:\u001b[0m \n",
      "    Cannot import tensorflow under path /opt/conda/bin/python. Using \"chief\" for cluster setting.\n",
      "    If this is not intended, Please check if tensorflow is installed. Please also\n",
      "    verify if the python path used is correct. If not, to change the python path:\n",
      "    use `gcloud config set ml_engine/local_python $python_path`\n",
      "    Eg: gcloud config set ml_engine/local_python /usr/bin/python3\n",
      "Copying file://model.pkl [Content-Type=application/octet-stream]...\n",
      "/ [1 files][  9.1 MiB/  9.1 MiB]                                                \n",
      "Operation completed over 1 objects/9.1 MiB.                                      \n"
     ]
    },
    {
     "data": {
      "text/plain": [
       "'\\n  --   --create-data=False   --hp-tune=False\\n'"
      ]
     },
     "execution_count": 2,
     "metadata": {},
     "output_type": "execute_result"
    }
   ],
   "source": [
    "# Give the service account for this project an \"Editor\" role in IAM for all users of this environment\n",
    "# to have Bigquery access. This is needed if create-data=True is set below.\n",
    "# If the table already exists, set create-data=False.\n",
    "!gcloud ai-platform local train \\\n",
    "  --package-path $TRAINING_PACKAGE_PATH \\\n",
    "  --module-name $MAIN_TRAINER_MODULE \\\n",
    "  -- \\\n",
    "  --create-data=True\n",
    "\n",
    "'''\n",
    "  -- \\\n",
    "  --create-data=False \\\n",
    "  --hp-tune=False\n",
    "'''"
   ]
  },
  {
   "cell_type": "markdown",
   "metadata": {},
   "source": [
    "<b>Perform training on AI Platform</b>\n",
    "\n",
    "The training job can also be run on AI Platform. \n",
    "\n",
    "Important: A single training job (either locally or using AI Platform) must complete with the --create-data  and --hp-tune flags set to True for the remainig functionality to complete.\n",
    "\n",
    "Note that we've updated the compute allocated to the master machine for this job to allow for more muscle."
   ]
  },
  {
   "cell_type": "code",
   "execution_count": 3,
   "metadata": {},
   "outputs": [
    {
     "name": "stdout",
     "output_type": "stream",
     "text": [
      "Job [rf_0603_train_job_1] submitted successfully.\n",
      "Your job is still active. You may view the status of your job with the command\n",
      "\n",
      "  $ gcloud ai-platform jobs describe rf_0603_train_job_1\n",
      "\n",
      "or continue streaming the logs with the command\n",
      "\n",
      "  $ gcloud ai-platform jobs stream-logs rf_0603_train_job_1\n",
      "jobId: rf_0603_train_job_1\n",
      "state: QUEUED\n"
     ]
    },
    {
     "data": {
      "text/plain": [
       "'\\n  --create-data=False   --hp-tune=False\\n'"
      ]
     },
     "execution_count": 3,
     "metadata": {},
     "output_type": "execute_result"
    }
   ],
   "source": [
    "!gcloud ai-platform jobs submit training $JOB_NAME \\\n",
    "  --job-dir gs://${BUCKET_NAME}/rf-job-dir \\\n",
    "  --package-path $TRAINING_PACKAGE_PATH \\\n",
    "  --module-name $MAIN_TRAINER_MODULE \\\n",
    "  --region $REGION \\\n",
    "  --runtime-version=$RUNTIME_VERSION \\\n",
    "  --python-version=$PYTHON_VERSION \\\n",
    "  --scale-tier $SCALE_TIER \\\n",
    "  --master-machine-type n1-highcpu-16 \\\n",
    "  -- \\\n",
    "  --job-id $JOB_NAME \\\n",
    "  --project-id $PROJECT_ID \\\n",
    "  --bucket-name $BUCKET_NAME \\\n",
    "  --dataset-id $DATASET_ID \n",
    "    \n",
    "'''\n",
    "  --create-data=False \\\n",
    "  --hp-tune=False\n",
    "'''"
   ]
  },
  {
   "cell_type": "code",
   "execution_count": 4,
   "metadata": {},
   "outputs": [],
   "source": [
    "# Stream logs so that training is done before subsequent cells are run.\n",
    "# Remove  '> /dev/null' to see step-by-step output of the model build steps.\n",
    "!gcloud ai-platform jobs stream-logs $JOB_NAME > /dev/null"
   ]
  },
  {
   "cell_type": "markdown",
   "metadata": {},
   "source": [
    "<b>Host the trained model on AI Platform</b>\n",
    "\n",
    "Because our raw prediction output from the model is a numpy array that needs to be converted into a product category, we'll need to implement a custom prediction module.\n",
    "\n",
    "First, execute the setup script to create a distribution tarball"
   ]
  },
  {
   "cell_type": "code",
   "execution_count": 5,
   "metadata": {},
   "outputs": [
    {
     "name": "stdout",
     "output_type": "stream",
     "text": [
      "running sdist\n",
      "running egg_info\n",
      "writing trainer.egg-info/PKG-INFO\n",
      "writing dependency_links to trainer.egg-info/dependency_links.txt\n",
      "writing requirements to trainer.egg-info/requires.txt\n",
      "writing top-level names to trainer.egg-info/top_level.txt\n",
      "reading manifest file 'trainer.egg-info/SOURCES.txt'\n",
      "writing manifest file 'trainer.egg-info/SOURCES.txt'\n",
      "running check\n",
      "warning: check: missing required meta-data: url\n",
      "\n",
      "warning: check: missing meta-data: either (author and author_email) or (maintainer and maintainer_email) must be supplied\n",
      "\n",
      "creating trainer-0.1\n",
      "creating trainer-0.1/trainer\n",
      "creating trainer-0.1/trainer.egg-info\n",
      "copying files to trainer-0.1...\n",
      "copying README.md -> trainer-0.1\n",
      "copying predictor.py -> trainer-0.1\n",
      "copying setup.py -> trainer-0.1\n",
      "copying trainer/__init__.py -> trainer-0.1/trainer\n",
      "copying trainer/create_data_func.py -> trainer-0.1/trainer\n",
      "copying trainer/hp_tuning.py -> trainer-0.1/trainer\n",
      "copying trainer/rf_trainer.py -> trainer-0.1/trainer\n",
      "copying trainer.egg-info/PKG-INFO -> trainer-0.1/trainer.egg-info\n",
      "copying trainer.egg-info/SOURCES.txt -> trainer-0.1/trainer.egg-info\n",
      "copying trainer.egg-info/dependency_links.txt -> trainer-0.1/trainer.egg-info\n",
      "copying trainer.egg-info/requires.txt -> trainer-0.1/trainer.egg-info\n",
      "copying trainer.egg-info/top_level.txt -> trainer-0.1/trainer.egg-info\n",
      "Writing trainer-0.1/setup.cfg\n",
      "Creating tar archive\n",
      "removing 'trainer-0.1' (and everything under it)\n"
     ]
    }
   ],
   "source": [
    "!python setup.py sdist --formats=gztar"
   ]
  },
  {
   "cell_type": "markdown",
   "metadata": {},
   "source": [
    "Next copy the tarball over to Cloud Storage"
   ]
  },
  {
   "cell_type": "code",
   "execution_count": 6,
   "metadata": {},
   "outputs": [
    {
     "name": "stdout",
     "output_type": "stream",
     "text": [
      "Copying file://dist/trainer-0.1.tar.gz [Content-Type=application/x-tar]...\n",
      "/ [1 files][  5.8 KiB/  5.8 KiB]                                                \n",
      "Operation completed over 1 objects/5.8 KiB.                                      \n"
     ]
    }
   ],
   "source": [
    "!gsutil cp dist/trainer-0.1.tar.gz gs://${BUCKET_NAME}/staging-dir/trainer-0.1.tar.gz"
   ]
  },
  {
   "cell_type": "markdown",
   "metadata": {},
   "source": [
    "Create a new model on AI Platform.  Note that this needs to be done just once, and future iterations are saved as \"versions\" of the model."
   ]
  },
  {
   "cell_type": "code",
   "execution_count": 7,
   "metadata": {},
   "outputs": [
    {
     "name": "stdout",
     "output_type": "stream",
     "text": [
      "\u001b[1;33mWARNING:\u001b[0m Using endpoint [https://ml.googleapis.com/]\n",
      "Created ml engine model [projects/mwe-sanofi-ml-workshop/models/rf_mod_0603_1].\n"
     ]
    }
   ],
   "source": [
    "!gcloud ai-platform models create $MODEL_NAME --regions $REGION"
   ]
  },
  {
   "cell_type": "markdown",
   "metadata": {},
   "source": [
    "Next we create new version using our trained model"
   ]
  },
  {
   "cell_type": "code",
   "execution_count": 8,
   "metadata": {},
   "outputs": [
    {
     "name": "stdout",
     "output_type": "stream",
     "text": [
      "\u001b[1;33mWARNING:\u001b[0m Using endpoint [https://ml.googleapis.com/]\n",
      "Creating version (this might take a few minutes)......done.                    \n"
     ]
    }
   ],
   "source": [
    "!gcloud beta ai-platform versions create $VERSION_NAME \\\n",
    "  --model $MODEL_NAME \\\n",
    "  --origin gs://${BUCKET_NAME}/black_friday_${JOB_NAME}/ \\\n",
    "  --runtime-version=1.14 \\\n",
    "  --python-version=3.5 \\\n",
    "  --package-uris gs://${BUCKET_NAME}/staging-dir/trainer-0.1.tar.gz \\\n",
    "  --prediction-class predictor.MyPredictor"
   ]
  },
  {
   "cell_type": "markdown",
   "metadata": {},
   "source": [
    "<b>Prepare a sample for inference</b>"
   ]
  },
  {
   "cell_type": "code",
   "execution_count": 9,
   "metadata": {},
   "outputs": [],
   "source": [
    "!python generate_sample.py"
   ]
  },
  {
   "cell_type": "markdown",
   "metadata": {},
   "source": [
    "<b>Make an inference on a new sample.</b>\n",
    "\n",
    "Pass the sample object to the model hosted in AI Platform to return a prediction."
   ]
  },
  {
   "cell_type": "code",
   "execution_count": 10,
   "metadata": {},
   "outputs": [
    {
     "name": "stdout",
     "output_type": "stream",
     "text": [
      "\u001b[1;33mWARNING:\u001b[0m Using endpoint [https://ml.googleapis.com/]\n",
      "{\n",
      "  \"predictions\": \"Product Category 1\"\n",
      "}\n"
     ]
    }
   ],
   "source": [
    "# make an online prediction\n",
    "!gcloud ai-platform predict --model $MODEL_NAME --version \\\n",
    "  $VERSION_NAME --json-instances input.json"
   ]
  }
 ],
 "metadata": {
  "environment": {
   "name": "pytorch-gpu.1-4.m48",
   "type": "gcloud",
   "uri": "gcr.io/deeplearning-platform-release/pytorch-gpu.1-4:m48"
  },
  "kernelspec": {
   "display_name": "Python 3",
   "language": "python",
   "name": "python3"
  },
  "language_info": {
   "codemirror_mode": {
    "name": "ipython",
    "version": 3
   },
   "file_extension": ".py",
   "mimetype": "text/x-python",
   "name": "python",
   "nbconvert_exporter": "python",
   "pygments_lexer": "ipython3",
   "version": "3.7.6"
  }
 },
 "nbformat": 4,
 "nbformat_minor": 4
}
